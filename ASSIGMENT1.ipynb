{
  "nbformat": 4,
  "nbformat_minor": 0,
  "metadata": {
    "colab": {
      "name": "Untitled55.ipynb",
      "provenance": [],
      "authorship_tag": "ABX9TyO3R625fAf3zXkzEzhUNhgB",
      "include_colab_link": true
    },
    "kernelspec": {
      "name": "python3",
      "display_name": "Python 3"
    }
  },
  "cells": [
    {
      "cell_type": "markdown",
      "metadata": {
        "id": "view-in-github",
        "colab_type": "text"
      },
      "source": [
        "<a href=\"https://colab.research.google.com/github/vyshnavi2001/NNDL/blob/main/ASSIGMENT1.ipynb\" target=\"_parent\"><img src=\"https://colab.research.google.com/assets/colab-badge.svg\" alt=\"Open In Colab\"/></a>"
      ]
    },
    {
      "cell_type": "code",
      "metadata": {
        "colab": {
          "base_uri": "https://localhost:8080/"
        },
        "id": "RAI2anqrOanQ",
        "outputId": "08fc00a3-47a3-4fbb-e740-78101a368e96"
      },
      "source": [
        "from sympy import *\r\n",
        "x=symbols('x')\r\n",
        "F=x*4+3*x*2+10\r\n",
        "y=diff(F,x) \r\n",
        "print(y)\r\n",
        "X=int(input(\"enter x value:\"))\r\n",
        "iteration=1 \r\n",
        "n=0.1 \r\n",
        "epoch=2\r\n",
        "while (iteration >= epoch) :\r\n",
        "   Y=y.subs(x,X)\r\n",
        "   deltax=-n*Y\r\n",
        "   newx = X + deltax\r\n",
        "   iteration= iteration + 1\r\n",
        "   X=newx\r\n",
        "print(\"final x =\",X)\r\n",
        "print(\"Minimum value of f(x)\",F.subs(x,X))"
      ],
      "execution_count": 4,
      "outputs": [
        {
          "output_type": "stream",
          "text": [
            "10\n",
            "enter x value:-1\n",
            "final x = -1\n",
            "Minimum value of f(x) 0\n"
          ],
          "name": "stdout"
        }
      ]
    }
  ]
}