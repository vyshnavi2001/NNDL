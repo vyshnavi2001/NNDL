{
  "nbformat": 4,
  "nbformat_minor": 0,
  "metadata": {
    "colab": {
      "name": "Untitled59.ipynb",
      "provenance": [],
      "authorship_tag": "ABX9TyPl7WxM+S1vHCfKdlKq8iL2",
      "include_colab_link": true
    },
    "kernelspec": {
      "name": "python3",
      "display_name": "Python 3"
    },
    "language_info": {
      "name": "python"
    }
  },
  "cells": [
    {
      "cell_type": "markdown",
      "metadata": {
        "id": "view-in-github",
        "colab_type": "text"
      },
      "source": [
        "<a href=\"https://colab.research.google.com/github/vyshnavi2001/NNDL/blob/main/assignment5.ipynb\" target=\"_parent\"><img src=\"https://colab.research.google.com/assets/colab-badge.svg\" alt=\"Open In Colab\"/></a>"
      ]
    },
    {
      "cell_type": "code",
      "metadata": {
        "id": "czvII4dbsree",
        "colab": {
          "base_uri": "https://localhost:8080/"
        },
        "outputId": "dd7cd2ce-6cab-44ef-b127-a254a85a4446"
      },
      "source": [
        "import numpy as np\n",
        "import pandas as pd\n",
        "import matplotlib.pyplot as plt\n",
        "import random\n",
        "\n",
        "data=np.array([[0.2,3.4],[0.4,3.8],[0.6,4.2],[0.8,4.6]])\n",
        "data"
      ],
      "execution_count": 1,
      "outputs": [
        {
          "output_type": "execute_result",
          "data": {
            "text/plain": [
              "array([[0.2, 3.4],\n",
              "       [0.4, 3.8],\n",
              "       [0.6, 4.2],\n",
              "       [0.8, 4.6]])"
            ]
          },
          "metadata": {
            "tags": []
          },
          "execution_count": 1
        }
      ]
    },
    {
      "cell_type": "code",
      "metadata": {
        "id": "98A4GwMANjN1"
      },
      "source": [
        "x=[]\n",
        "y=[]\n",
        "for i in range(0,len(data)):\n",
        "  x.append(data[i][0])\n",
        "for i in range(0,len(data)):\n",
        "  y.append(data[i][1])\n",
        "x=np.array(x)\n",
        "y=np.array(y)"
      ],
      "execution_count": 3,
      "outputs": []
    },
    {
      "cell_type": "code",
      "metadata": {
        "colab": {
          "base_uri": "https://localhost:8080/"
        },
        "id": "NgnhdptVNsGh",
        "outputId": "1db2c19c-2038-4502-dad3-3a873881f59e"
      },
      "source": [
        "bs=2\n",
        "nb=np.ceil(len(data)/bs)\n",
        "print(\"no of batches : \"+str(nb))"
      ],
      "execution_count": 4,
      "outputs": [
        {
          "output_type": "stream",
          "text": [
            "no of batches : 2.0\n"
          ],
          "name": "stdout"
        }
      ]
    },
    {
      "cell_type": "code",
      "metadata": {
        "colab": {
          "base_uri": "https://localhost:8080/"
        },
        "id": "DxwuMqACN23O",
        "outputId": "64109223-6661-41b3-d075-e7e688834b92"
      },
      "source": [
        "# Shuffle Data\n",
        "samples=np.arange(len(data))\n",
        "random.shuffle(samples)\n",
        "samples"
      ],
      "execution_count": 5,
      "outputs": [
        {
          "output_type": "execute_result",
          "data": {
            "text/plain": [
              "array([3, 2, 1, 0])"
            ]
          },
          "metadata": {
            "tags": []
          },
          "execution_count": 5
        }
      ]
    },
    {
      "cell_type": "code",
      "metadata": {
        "colab": {
          "base_uri": "https://localhost:8080/"
        },
        "id": "oGdMcl3GN7oF",
        "outputId": "e83ebcf3-f5e8-43f4-f5af-62ec0b90b814"
      },
      "source": [
        "for i in samples:\n",
        "  print(x[i],y[i])"
      ],
      "execution_count": 6,
      "outputs": [
        {
          "output_type": "stream",
          "text": [
            "0.8 4.6\n",
            "0.6 4.2\n",
            "0.4 3.8\n",
            "0.2 3.4\n"
          ],
          "name": "stdout"
        }
      ]
    },
    {
      "cell_type": "code",
      "metadata": {
        "id": "yNQmvxIvOMT4"
      },
      "source": [
        "m=1\n",
        "c=-1\n",
        "n=0.1\n",
        "iter=1\n",
        "epochs=100"
      ],
      "execution_count": 7,
      "outputs": []
    },
    {
      "cell_type": "code",
      "metadata": {
        "colab": {
          "base_uri": "https://localhost:8080/"
        },
        "id": "HZw4XSHhOY4E",
        "outputId": "84efecca-1e96-44fc-b70b-1b66bd3474be"
      },
      "source": [
        "while (iter<=epochs):\n",
        "  batch = 1\n",
        "  while (batch<=nb):\n",
        "    der_m=0\n",
        "    der_c=0\n",
        "    error=0\n",
        "    for i in range(0,bs):\n",
        "      der_m = der_m + (y[samples[i]] - (m*x[samples[i]]) - c)*x[samples[i]]\n",
        "      der_c = der_c + (y[samples[i]] - (m*x[samples[i]]) - c)\n",
        "    der_m = (-1/bs)*der_m\n",
        "    der_c = (-1/bs)*der_c\n",
        "\n",
        "    m_change = (-1)*n*der_m\n",
        "    c_change = (-1)*n*der_c\n",
        "\n",
        "    m = m + m_change\n",
        "    c = c + c_change\n",
        "\n",
        "    batch = batch + 1\n",
        "  iter = iter + 1\n",
        "print('Optimal values of m,c are : \\n'+str(m),str(c))"
      ],
      "execution_count": 8,
      "outputs": [
        {
          "output_type": "stream",
          "text": [
            "Optimal values of m,c are : \n",
            "3.0629283566848993 2.2509339828194217\n"
          ],
          "name": "stdout"
        }
      ]
    },
    {
      "cell_type": "code",
      "metadata": {
        "colab": {
          "base_uri": "https://localhost:8080/"
        },
        "id": "negZDwW4OrsP",
        "outputId": "85cca1e1-5a9b-44ac-a6de-a28eb3aeaabb"
      },
      "source": [
        "predict = []\n",
        "for i in range(0,len(data)):\n",
        "  predict.append(m*x[i]+c)\n",
        "predict\n"
      ],
      "execution_count": 9,
      "outputs": [
        {
          "output_type": "execute_result",
          "data": {
            "text/plain": [
              "[2.8635196541564016, 3.4761053254933816, 4.088690996830361, 4.701276668167342]"
            ]
          },
          "metadata": {
            "tags": []
          },
          "execution_count": 9
        }
      ]
    },
    {
      "cell_type": "code",
      "metadata": {
        "colab": {
          "base_uri": "https://localhost:8080/"
        },
        "id": "_S5xV5BKO0EO",
        "outputId": "e89c66fd-3b45-409e-8f44-6caa38a18a10"
      },
      "source": [
        "#mse\n",
        "mse=0\n",
        "for i in range(0,len(data)):\n",
        "  mse = mse + (y[i]-(predict[i]))**2\n",
        "mse =(1/len(data))*mse\n",
        "mse"
      ],
      "execution_count": 10,
      "outputs": [
        {
          "output_type": "execute_result",
          "data": {
            "text/plain": [
              "0.1038413948379779"
            ]
          },
          "metadata": {
            "tags": []
          },
          "execution_count": 10
        }
      ]
    },
    {
      "cell_type": "code",
      "metadata": {
        "colab": {
          "base_uri": "https://localhost:8080/",
          "height": 279
        },
        "id": "y4p3_aLwO_UQ",
        "outputId": "42258aac-18c9-4569-eb9c-65ce8af3118c"
      },
      "source": [
        "plt.plot(x,y,'--',color='b',label='Original Data')\n",
        "plt.scatter(x,predict,color='r',label='Predicted Data')\n",
        "plt.xlabel('X-DATA')\n",
        "plt.ylabel('Y-DATA')\n",
        "plt.legend()\n",
        "plt.show()"
      ],
      "execution_count": 11,
      "outputs": [
        {
          "output_type": "display_data",
          "data": {
            "image/png": "[encoded data removed]",
            "text/plain": [
              "<Figure size 432x288 with 1 Axes>"
            ]
          },
          "metadata": {
            "tags": [],
            "needs_background": "light"
          }
        }
      ]
    }
  ]
}