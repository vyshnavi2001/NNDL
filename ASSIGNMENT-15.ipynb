{
  "nbformat": 4,
  "nbformat_minor": 0,
  "metadata": {
    "colab": {
      "name": "Untitled80.ipynb",
      "provenance": [],
      "authorship_tag": "ABX9TyOQf0IDnbhiMvJLnzZ5b3Ir",
      "include_colab_link": true
    },
    "kernelspec": {
      "name": "python3",
      "display_name": "Python 3"
    },
    "language_info": {
      "name": "python"
    }
  },
  "cells": [
    {
      "cell_type": "markdown",
      "metadata": {
        "id": "view-in-github",
        "colab_type": "text"
      },
      "source": [
        "<a href=\"https://colab.research.google.com/github/vyshnavi2001/NNDL/blob/main/ASSIGNMENT-15.ipynb\" target=\"_parent\"><img src=\"https://colab.research.google.com/assets/colab-badge.svg\" alt=\"Open In Colab\"/></a>"
      ]
    },
    {
      "cell_type": "code",
      "metadata": {
        "id": "aCe4y9JhaFFC"
      },
      "source": [
        "import pandas as pd\n",
        "import numpy as np\n",
        "import matplotlib.pyplot as plt\n",
        "import math"
      ],
      "execution_count": 1,
      "outputs": []
    },
    {
      "cell_type": "code",
      "metadata": {
        "id": "M7DYNnY7aJVZ"
      },
      "source": [
        "data = [[0.2,3.4],[0.4,3.8],[0.6,4.2],[0.8,4.6]] \n"
      ],
      "execution_count": 2,
      "outputs": []
    },
    {
      "cell_type": "code",
      "metadata": {
        "id": "n-d_XfJzaN3V"
      },
      "source": [
        "data_x = []\n",
        "data_y = []\n",
        "for i in range(len(data)):\n",
        "  data_x.append(data[i][0])\n",
        "  data_y.append(data[i][1])\n",
        "\n",
        "\n",
        "data_x = np.array(data_x)\n",
        "data_y = np.array(data_y)"
      ],
      "execution_count": 4,
      "outputs": []
    },
    {
      "cell_type": "code",
      "metadata": {
        "id": "rBeJifCFaTSY"
      },
      "source": [
        "# initalising required variables\n",
        "max_iters=10000\n",
        "m=1.0\n",
        "c=-1.0\n",
        "Em=0.0\n",
        "Ec=0.0\n",
        "alpha=0.1\n",
        "exp=10**(-8)\n",
        "dm=0.0\n",
        "dc=0.0\n",
        "iter=1\n",
        "error=[]\n",
        "moment = 0.9\n"
      ],
      "execution_count": 5,
      "outputs": []
    },
    {
      "cell_type": "code",
      "metadata": {
        "id": "FBHPs9_uamJl"
      },
      "source": [
        "while (iter<=max_iters):\n",
        "  err=0.0\n",
        "  for i in range(4):\n",
        "    gm=-1*(data_y[i]-(m*data_x[i])-c)*data_x[i]\n",
        "    gc=-1*(data_y[i]-(m*data_x[i])-c)\n",
        "    err+=(data_y[i]-m*data_x[i]-c)**2\n",
        "    Em = moment*Em + (1-moment)*(gm**2)\n",
        "    Ec = moment*Ec + (1-moment)*(gc**2)\n",
        "    r1 = math.sqrt(Em + exp)\n",
        "    r2 = math.sqrt(Ec + exp)\n",
        "    dm = -1*(alpha/r1)*gm\n",
        "    dc = -1*(alpha/r2)*gc\n",
        "    m = m + dm\n",
        "    c = c + dc\n",
        "  error.append(err/8)\n",
        "  iter=iter+1"
      ],
      "execution_count": 6,
      "outputs": []
    },
    {
      "cell_type": "code",
      "metadata": {
        "colab": {
          "base_uri": "https://localhost:8080/"
        },
        "id": "Q8zShscBarRX",
        "outputId": "0d9fbf64-eb73-4cb1-ab27-65b2ef55f54c"
      },
      "source": [
        "print(m,c)"
      ],
      "execution_count": 7,
      "outputs": [
        {
          "output_type": "stream",
          "text": [
            "2.023899171951446 2.9983498001272957\n"
          ],
          "name": "stdout"
        }
      ]
    },
    {
      "cell_type": "code",
      "metadata": {
        "colab": {
          "base_uri": "https://localhost:8080/"
        },
        "id": "xXwEczdMau96",
        "outputId": "d094b8f7-f4d2-45f5-cb68-f5aad35281fc"
      },
      "source": [
        "dd = 0\n",
        "for i in range(4):\n",
        "  dd+=(data_y[i]-(m*data_x[i])-c)**2\n",
        "dd = dd/4\n",
        "print(dd)\n"
      ],
      "execution_count": 8,
      "outputs": [
        {
          "output_type": "stream",
          "text": [
            "0.00013463587509730026\n"
          ],
          "name": "stdout"
        }
      ]
    },
    {
      "cell_type": "code",
      "metadata": {
        "colab": {
          "base_uri": "https://localhost:8080/",
          "height": 281
        },
        "id": "ltqv5A1_a1Sc",
        "outputId": "3dc24074-5956-40cb-f687-c990a4357c39"
      },
      "source": [
        "plt.scatter(data_x,data_y,label=\"data points\")\n",
        "plt.plot(data_x,m*data_x+c,color='red',label=\"regression line\")\n",
        "plt.title(\"Visualising ADAGRAM\")\n",
        "plt.grid()\n",
        "plt.legend()\n",
        "plt.show()\n"
      ],
      "execution_count": 9,
      "outputs": [
        {
          "output_type": "display_data",
          "data": {
            "image/png": "[encoded data removed]",
            "text/plain": [
              "<Figure size 432x288 with 1 Axes>"
            ]
          },
          "metadata": {
            "tags": [],
            "needs_background": "light"
          }
        }
      ]
    },
    {
      "cell_type": "code",
      "metadata": {
        "colab": {
          "base_uri": "https://localhost:8080/",
          "height": 265
        },
        "id": "gDJELJiBa6ZB",
        "outputId": "1298dec2-6401-4ed4-99bb-a53b0191ad92"
      },
      "source": [
        "iters=np.arange(max_iters)\n",
        "plt.plot(iters,error)\n",
        "plt.show()"
      ],
      "execution_count": 10,
      "outputs": [
        {
          "output_type": "display_data",
          "data": {
            "image/png": "[encoded data removed]",
            "text/plain": [
              "<Figure size 432x288 with 1 Axes>"
            ]
          },
          "metadata": {
            "tags": [],
            "needs_background": "light"
          }
        }
      ]
    }
  ]
}