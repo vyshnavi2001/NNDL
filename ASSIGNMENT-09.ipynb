{
  "nbformat": 4,
  "nbformat_minor": 0,
  "metadata": {
    "colab": {
      "name": "Untitled61.ipynb",
      "provenance": [],
      "authorship_tag": "ABX9TyMEA53alXahpuRnB9cP4bd/",
      "include_colab_link": true
    },
    "kernelspec": {
      "name": "python3",
      "display_name": "Python 3"
    },
    "language_info": {
      "name": "python"
    }
  },
  "cells": [
    {
      "cell_type": "markdown",
      "metadata": {
        "id": "view-in-github",
        "colab_type": "text"
      },
      "source": [
        "<a href=\"https://colab.research.google.com/github/vyshnavi2001/NNDL/blob/main/assignment9.ipynb\" target=\"_parent\"><img src=\"https://colab.research.google.com/assets/colab-badge.svg\" alt=\"Open In Colab\"/></a>"
      ]
    },
    {
      "cell_type": "code",
      "metadata": {
        "colab": {
          "base_uri": "https://localhost:8080/"
        },
        "id": "2J1GWj8cR04i",
        "outputId": "1b950e36-7060-4dc2-c8e6-d807f2bd2be8"
      },
      "source": [
        "import numpy as np\n",
        "import pandas as pd\n",
        "import matplotlib.pyplot as plt\n",
        "\n",
        "data=np.array([[0.2,3.4],[0.4,3.8],[0.6,4.2],[0.8,4.6]])\n",
        "data"
      ],
      "execution_count": 1,
      "outputs": [
        {
          "output_type": "execute_result",
          "data": {
            "text/plain": [
              "array([[0.2, 3.4],\n",
              "       [0.4, 3.8],\n",
              "       [0.6, 4.2],\n",
              "       [0.8, 4.6]])"
            ]
          },
          "metadata": {
            "tags": []
          },
          "execution_count": 1
        }
      ]
    },
    {
      "cell_type": "code",
      "metadata": {
        "id": "uxJGOxtoSAqb"
      },
      "source": [
        "x=[]\n",
        "y=[]\n",
        "for i in range(0,len(data)):\n",
        "  x.append(data[i][0])\n",
        "for i in range(0,len(data)):\n",
        "  y.append(data[i][1])\n",
        "x=np.array(x)\n",
        "y=np.array(y)\n"
      ],
      "execution_count": 2,
      "outputs": []
    },
    {
      "cell_type": "code",
      "metadata": {
        "id": "Stv9bnVFSKH4"
      },
      "source": [
        "m=1\n",
        "c=-1\n",
        "epochs=100\n",
        "n=0.1\n",
        "ns=len(data)\n",
        "vm=0\n",
        "vc=0\n",
        "iter=1\n",
        "momentum=0.9"
      ],
      "execution_count": 6,
      "outputs": []
    },
    {
      "cell_type": "code",
      "metadata": {
        "colab": {
          "base_uri": "https://localhost:8080/"
        },
        "id": "41BnIe2-SUIV",
        "outputId": "35bb26c5-e09a-45db-f777-5ca020030b4b"
      },
      "source": [
        "while (iter<=epochs):\n",
        "  for i in range(0,ns):\n",
        "    der_m = (-1)*(y[i] - (m*x[i]) - c)*x[i]\n",
        "    der_c = (-1)*(y[i] - (m*x[i]) - c)\n",
        "\n",
        "    vm = (vm*momentum) - (n*der_m)\n",
        "    vc = (vc*momentum) - (n*der_c)\n",
        "\n",
        "    m = m + vm\n",
        "    c = c + vc\n",
        "\n",
        "  iter = iter + 1\n",
        "print(m,c)"
      ],
      "execution_count": 7,
      "outputs": [
        {
          "output_type": "stream",
          "text": [
            "1.9999999992479098 2.999999998298953\n"
          ],
          "name": "stdout"
        }
      ]
    },
    {
      "cell_type": "code",
      "metadata": {
        "colab": {
          "base_uri": "https://localhost:8080/"
        },
        "id": "giyd0jRUTDP3",
        "outputId": "4a858383-0a85-4f0c-f536-efc91e62ab13"
      },
      "source": [
        "# Mean Square Error\n",
        "\n",
        "mse = 0\n",
        "for i in range(0,ns):\n",
        "  mse += (y[i] - (m*x[i]) - c)**2\n",
        "mse = mse/ns\n",
        "mse"
      ],
      "execution_count": 8,
      "outputs": [
        {
          "output_type": "execute_result",
          "data": {
            "text/plain": [
              "4.3425919644266175e-18"
            ]
          },
          "metadata": {
            "tags": []
          },
          "execution_count": 8
        }
      ]
    },
    {
      "cell_type": "code",
      "metadata": {
        "colab": {
          "base_uri": "https://localhost:8080/"
        },
        "id": "4dvzq0cqTQxt",
        "outputId": "b57f4f46-515c-4199-be9d-bfe6847f0ab1"
      },
      "source": [
        "predict = []\n",
        "for i in range(0,ns):\n",
        "  predict.append(m*x[i]+c)\n",
        "predict\n"
      ],
      "execution_count": 9,
      "outputs": [
        {
          "output_type": "execute_result",
          "data": {
            "text/plain": [
              "[3.399999998148535, 3.799999997998117, 4.199999997847699, 4.599999997697282]"
            ]
          },
          "metadata": {
            "tags": []
          },
          "execution_count": 9
        }
      ]
    },
    {
      "cell_type": "code",
      "metadata": {
        "colab": {
          "base_uri": "https://localhost:8080/",
          "height": 279
        },
        "id": "iILaC6vqTTpu",
        "outputId": "77670789-a652-4f41-ba4c-f0e8e93c0f53"
      },
      "source": [
        "plt.plot(x,y,'--',color='b',label='Original Data')\n",
        "plt.scatter(x,predict,color='r',label='Predicted Data')\n",
        "plt.xlabel('X-DATA')\n",
        "plt.ylabel('Y-DATA')\n",
        "plt.legend()\n",
        "plt.show()\n"
      ],
      "execution_count": 10,
      "outputs": [
        {
          "output_type": "display_data",
          "data": {
            "image/png": "[encoded data removed]",
            "text/plain": [
              "<Figure size 432x288 with 1 Axes>"
            ]
          },
          "metadata": {
            "tags": [],
            "needs_background": "light"
          }
        }
      ]
    },
    {
      "cell_type": "code",
      "metadata": {
        "id": "NXgVXKNfTDxN"
      },
      "source": [
        ""
      ],
      "execution_count": null,
      "outputs": []
    }
  ]
}
