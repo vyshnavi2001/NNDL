{
  "nbformat": 4,
  "nbformat_minor": 0,
  "metadata": {
    "colab": {
      "name": "Untitled",
      "provenance": [],
      "authorship_tag": "ABX9TyNzWMdb6Of3lPD5R5kgt9de",
      "include_colab_link": true
    },
    "kernelspec": {
      "name": "python3",
      "display_name": "Python 3"
    },
    "language_info": {
      "name": "python"
    }
  },
  "cells": [
    {
      "cell_type": "markdown",
      "metadata": {
        "id": "view-in-github",
        "colab_type": "text"
      },
      "source": [
        "<a href=\"https://colab.research.google.com/github/vyshnavi2001/NNDL/blob/main/asignment3.ipynb\" target=\"_parent\"><img src=\"https://colab.research.google.com/assets/colab-badge.svg\" alt=\"Open In Colab\"/></a>"
      ]
    },
    {
      "cell_type": "code",
      "metadata": {
        "colab": {
          "base_uri": "https://localhost:8080/"
        },
        "id": "ySh8p3qn3ccA",
        "outputId": "7b304134-2f7c-452c-eab6-355c8195748f"
      },
      "source": [
        "from sympy import Symbol, Derivative, symbols\n",
        "x= Symbol('x')\n",
        "y= Symbol('y')\n",
        "function = x**2 + y**2 + 10\n",
        "partialderiv= Derivative(function, y)\n",
        "dfy = partialderiv.doit()\n",
        "partialderiv= Derivative(function, x)\n",
        "dfx = partialderiv.doit()\n",
        "\n",
        "print(f'first order derivatives of given function are df/dx = {dfx} ,df/dy = {dfy}')\n",
        "\n",
        "#step 1 initialise values \n",
        "x1 = -1.0 \n",
        "y1 = 2.0  #variable x, y\n",
        "itr = 100  #epoches\n",
        "learning_rate = 0.1  #learning rate\n",
        "for i in range(0,itr):\n",
        "    #step 2 substitute x ,y in first order derivatives df/dx, df/dy\n",
        "    x = symbols('x')\n",
        "    y = symbols('y')\n",
        "    dfxv = dfx.subs(x, x1) \n",
        "    dfxv = round(dfxv,2)\n",
        "    dfyv = dfy.subs(y, y1) \n",
        "    dfyv = round(dfyv,2)\n",
        "    #step3 find change in x , y\n",
        "    dx = (-1.0)*learning_rate*dfxv\n",
        "    dy = (-1.0)*learning_rate*dfyv\n",
        "    #step4 update variable \n",
        "    x1 = x1 + dx\n",
        "    x1 = round(x1, 2) \n",
        "    y1 = y1 + dy\n",
        "    y1 = round(y1, 2)\n",
        "    #step5 increment iterations \n",
        "    #step6 break loop if iterations exceed no of epoches\n",
        "#step7 print variable x1, y1\n",
        "print(x1, y1)\n",
        "print(f'minimum value obtained at x = {x1} ,y ={y1} for given function')"
      ],
      "execution_count": 1,
      "outputs": [
        {
          "output_type": "stream",
          "text": [
            "first order derivatives of given function are df/dx = 2*x ,df/dy = 2*y\n",
            "-0.02 0.02\n",
            "minimum value obtained at x = -0.02 ,y =0.02 for given function\n"
          ],
          "name": "stdout"
        }
      ]
    },
    {
      "cell_type": "code",
      "metadata": {
        "colab": {
          "base_uri": "https://localhost:8080/"
        },
        "id": "73TbMMjm5wbQ",
        "outputId": "4241da9e-267d-4a5b-c89a-0deee71a461e"
      },
      "source": [
        "from sympy import Symbol, Derivative, symbols\n",
        "m= Symbol('m')\n",
        "c= Symbol('c')\n",
        "function = '0.5*(y-m*x-c)**2'\n",
        "partialderiv= Derivative(function, m)\n",
        "dfm = partialderiv.doit()\n",
        "partialderiv= Derivative(function, c)\n",
        "dfc = partialderiv.doit()\n",
        "xa = [0.2,0.4,0.6,0.8,1.0,1.2]\n",
        "ya = [2.4,3.8,4.2,4.6,5.0,5.4]\n",
        "\n",
        "print(f'first order derivatives of given function are de/dm = {dfm} ,de/dc = {dfc}')\n",
        "\n",
        "#step 1 initialise values \n",
        "m1 = -1.0 \n",
        "c1 = 1.0  #variable x, y\n",
        "itr = 100  #epoches\n",
        "learning_rate = 0.1  #learning rate\n",
        "for i in range(0,itr):\n",
        "    for j in range(0,len(xa)):\n",
        "        #step 2 substitute x ,y in first order derivatives df/dx, df/dy\n",
        "        m = symbols('m')\n",
        "        c = symbols('c')\n",
        "        x = symbols('x')\n",
        "        y = symbols('y')\n",
        "        dfmv = dfm.subs(m, m1) \n",
        "        dfmv = dfmv.subs(c, c1) \n",
        "        dfmv = dfmv.subs(x, xa[j]) \n",
        "        dfmv = dfmv.subs(y, ya[j]) \n",
        "        dfmv = round(dfmv,2)\n",
        "        dfcv = dfc.subs(c, c1) \n",
        "        dfcv = dfcv.subs(m, m1) \n",
        "        dfcv = dfcv.subs(x, xa[j]) \n",
        "        dfcv = dfcv.subs(y, ya[j]) \n",
        "        dfcv = round(dfcv,2)\n",
        "        #step3 find change in x , y\n",
        "        dm = (-1.0)*learning_rate*dfmv\n",
        "        dc = (-1.0)*learning_rate*dfcv\n",
        "        #step4 update variable \n",
        "        m1 = m1 + dm\n",
        "        m1 = round(m1, 2) \n",
        "        c1 = c1 + dc\n",
        "        c1 = round(c1, 2)\n",
        "    #step5 increment iterations \n",
        "    #step6 break loop if iterations exceed no of epoches\n",
        "#step7 print variable x1, y1\n",
        "print(m1, c1)\n",
        "print(f'minimum value obtained at m = {m1} ,c ={c1} for given function')\n"
      ],
      "execution_count": 2,
      "outputs": [
        {
          "output_type": "stream",
          "text": [
            "first order derivatives of given function are de/dm = -1.0*x*(-c - m*x + y) ,de/dc = 1.0*c + 1.0*m*x - 1.0*y\n",
            "2.49 2.51\n",
            "minimum value obtained at m = 2.49 ,c =2.51 for given function\n"
          ],
          "name": "stdout"
        }
      ]
    }
  ]
}