{
  "nbformat": 4,
  "nbformat_minor": 0,
  "metadata": {
    "colab": {
      "name": "Untitled74.ipynb",
      "provenance": [],
      "authorship_tag": "ABX9TyPZccis/ROkApdxxW8VtBmL",
      "include_colab_link": true
    },
    "kernelspec": {
      "name": "python3",
      "display_name": "Python 3"
    },
    "language_info": {
      "name": "python"
    }
  },
  "cells": [
    {
      "cell_type": "markdown",
      "metadata": {
        "id": "view-in-github",
        "colab_type": "text"
      },
      "source": [
        "<a href=\"https://colab.research.google.com/github/vyshnavi2001/NNDL/blob/main/ASSIGNMENT-13.ipynb\" target=\"_parent\"><img src=\"https://colab.research.google.com/assets/colab-badge.svg\" alt=\"Open In Colab\"/></a>"
      ]
    },
    {
      "cell_type": "code",
      "metadata": {
        "colab": {
          "base_uri": "https://localhost:8080/"
        },
        "id": "aX5DgwEDbsfO",
        "outputId": "f456cda1-932d-497f-c5aa-72c0c1f1b58a"
      },
      "source": [
        "from math import *\n",
        "x = [0.2,0.4,0.6,0.8,1.0,1.2]\n",
        "y = [3.4,3.8,4.2,4.6,5.0,5.4]\n",
        "print(\"sample x values : \", x)\n",
        "print(\"sample y values : \", y)\n",
        "\n",
        "m = 1\n",
        "c = -1\n",
        "print(\"initial m value : \",m)\n",
        "print(\"initial c value : \",c)\n",
        "\n",
        "Gm = 0\n",
        "Gc = 0\n",
        "e = pow(10,-6)\n",
        "learning_rate = 0.01\n",
        "print(\"learning rate : \",learning_rate)\n",
        "print(\"Gm : \",Gm)\n",
        "print(\"Gc : \",Gc)\n",
        "print(\"epsilon : \",e)\n",
        "\n",
        "print(\"\\nSample 1\")\n",
        "gradient_m_at_x0 = -1*(y[0] - m*x[0] - c)*x[0]\n",
        "print(\"gradient of m at x0 : \",gradient_m_at_x0)\n",
        "gradient_c_at_x0 = -1*(y[0] - m*x[0] - c)\n",
        "print(\"gradient of c at x0 : \",gradient_c_at_x0)\n",
        "Gm = Gm + gradient_m_at_x0**2\n",
        "print(\"Gm : \",Gm)\n",
        "Gc = Gc + gradient_c_at_x0**2\n",
        "print(\"Gc : \",Gc)\n",
        "learning_rate_m = learning_rate/sqrt(Gm+e)\n",
        "print(\"learning_rate_m : \",learning_rate_m)\n",
        "learning_rate_c = learning_rate/sqrt(Gc+e)\n",
        "print(\"learning_rate_c : \",learning_rate_c)\n",
        "deltam = -1*learning_rate_m*gradient_m_at_x0\n",
        "deltac = -1*learning_rate_c*gradient_c_at_x0\n",
        "print(\"delta m : \",deltam)\n",
        "print(\"delta c : \",deltac)\n",
        "m = m + deltam\n",
        "print(\"m : \",m)\n",
        "c = c + deltac\n",
        "print(\"c : \",c)\n",
        "\n",
        "print(\"\\nSample 2\")\n",
        "gradient_m_at_x1 = -1*(y[1] - m*x[1] - c)*x[1]\n",
        "print(\"gradient of m at x1 : \",gradient_m_at_x1)\n",
        "gradient_c_at_x1 = -1*(y[1] - m*x[1] - c)\n",
        "print(\"gradient of c at x1 : \",gradient_c_at_x1)\n",
        "Gm = Gm + gradient_m_at_x1**2\n",
        "print(\"Gm : \",Gm)\n",
        "Gc = Gc + gradient_c_at_x1**2\n",
        "print(\"Gc : \",Gc)\n",
        "learning_rate_m = learning_rate/sqrt(Gm+e)\n",
        "print(\"learning_rate_m : \",learning_rate_m)\n",
        "learning_rate_c = learning_rate/sqrt(Gc+e)\n",
        "print(\"learning_rate_c : \",learning_rate_c)\n",
        "deltam = -1*learning_rate*gradient_m_at_x1\n",
        "deltac = -1*learning_rate*gradient_c_at_x1\n",
        "print(\"delta m : \",deltam)\n",
        "print(\"delta c : \",deltac)\n",
        "m = m + deltam\n",
        "print(\"m : \",m)\n",
        "c = c + deltac"
      ],
      "execution_count": 1,
      "outputs": [
        {
          "output_type": "stream",
          "text": [
            "sample x values :  [0.2, 0.4, 0.6, 0.8, 1.0, 1.2]\n",
            "sample y values :  [3.4, 3.8, 4.2, 4.6, 5.0, 5.4]\n",
            "initial m value :  1\n",
            "initial c value :  -1\n",
            "learning rate :  0.01\n",
            "Gm :  0\n",
            "Gc :  0\n",
            "epsilon :  1e-06\n",
            "\n",
            "Sample 1\n",
            "gradient of m at x0 :  -0.8399999999999999\n",
            "gradient of c at x0 :  -4.199999999999999\n",
            "Gm :  0.7055999999999998\n",
            "Gc :  17.639999999999993\n",
            "learning_rate_m :  0.011904753468856825\n",
            "learning_rate_c :  0.002380952313465072\n",
            "delta m :  0.009999992913839732\n",
            "delta c :  0.0099999997165533\n",
            "m :  1.0099999929138397\n",
            "c :  -0.9900000002834467\n",
            "\n",
            "Sample 2\n",
            "gradient of m at x1 :  -1.7544000012471643\n",
            "gradient of c at x1 :  -4.3860000031179105\n",
            "Gm :  3.7835193643760503\n",
            "Gc :  36.8769960273503\n",
            "learning_rate_m :  0.005141051590929153\n",
            "learning_rate_c :  0.0016467293490967554\n",
            "delta m :  0.017544000012471642\n",
            "delta c :  0.043860000031179104\n",
            "m :  1.0275439929263113\n"
          ],
          "name": "stdout"
        }
      ]
    },
    {
      "cell_type": "code",
      "metadata": {
        "id": "bThGotjZeSwJ"
      },
      "source": [
        "import matplotlib.pyplot as plt"
      ],
      "execution_count": 2,
      "outputs": []
    },
    {
      "cell_type": "code",
      "metadata": {
        "colab": {
          "base_uri": "https://localhost:8080/"
        },
        "id": "5pBPoTrleZ4-",
        "outputId": "56e970e9-cfea-4415-cbda-c68ae241e4ff"
      },
      "source": [
        "x = [0.2,0.4,0.6,0.8,1.0,1.2]\n",
        "y = [3.4,3.8,4.2,4.6,5.0,5.4]\n",
        "\n",
        "m = 1\n",
        "c = -1\n",
        "\n",
        "learning_rate = 0.01\n",
        "### NUMBER OF EPOCHS :( ###\n",
        "epochs = 1000000\n",
        "\n",
        "number_of_samples = 6\n",
        "error_list = []\n",
        "\n",
        "def gradientm(y,x,m,c):\n",
        "    return -1*(y-m*x-c)*x\n",
        "\n",
        "def gradientc(y,x,m,c):\n",
        "    return -1*(y-m*x-c)\n",
        "\n",
        "for i in range(epochs):\n",
        "    for j in range(number_of_samples):\n",
        "        error = 0.5 * (y[j] - m*x[j] - c)**2\n",
        "        error_list.append(error)\n",
        "\n",
        "        gradient_m = gradientm(y[j],x[j],m,c)\n",
        "        gradient_c = gradientc(y[j],x[j],m,c)\n",
        "\n",
        "        Gm = Gm + gradient_m**2\n",
        "        Gc = Gc + gradient_c**2\n",
        "\n",
        "        learning_rate_m = learning_rate/sqrt(Gm+e)\n",
        "        learning_rate_c = learning_rate/sqrt(Gc+e)\n",
        "        \n",
        "        deltam = -1*learning_rate_m*gradient_m\n",
        "        deltac = -1*learning_rate_c*gradient_c\n",
        "        \n",
        "        m = m + deltam\n",
        "        c = c + deltac\n",
        "        \n",
        "print(\"optimal value of m and c using SGD: \",m , c)\n"
      ],
      "execution_count": 3,
      "outputs": [
        {
          "output_type": "stream",
          "text": [
            "optimal value of m and c using SGD:  2.0000028323513117 2.9999978136141863\n"
          ],
          "name": "stdout"
        }
      ]
    },
    {
      "cell_type": "code",
      "metadata": {
        "colab": {
          "base_uri": "https://localhost:8080/",
          "height": 312
        },
        "id": "sqMjxELSeomb",
        "outputId": "1a759e15-5500-40aa-a0ff-aa364214df67"
      },
      "source": [
        "x1 = range(epochs*6)\n",
        "y1 = error_list\n",
        "\n",
        "plt.plot(x1,y1)\n",
        "plt.xlabel(\"number of iterations\")\n",
        "plt.ylabel(\"error\")\n",
        "plt.title(\"error graph in case of SGD with AdaGrad optimizer\")"
      ],
      "execution_count": 4,
      "outputs": [
        {
          "output_type": "execute_result",
          "data": {
            "text/plain": [
              "Text(0.5, 1.0, 'error graph in case of SGD with AdaGrad optimizer')"
            ]
          },
          "metadata": {
            "tags": []
          },
          "execution_count": 4
        },
        {
          "output_type": "display_data",
          "data": {
            "image/png": "[encoded data removed]",
            "text/plain": [
              "<Figure size 432x288 with 1 Axes>"
            ]
          },
          "metadata": {
            "tags": [],
            "needs_background": "light"
          }
        }
      ]
    },
    {
      "cell_type": "code",
      "metadata": {
        "colab": {
          "base_uri": "https://localhost:8080/",
          "height": 298
        },
        "id": "ia1sFPcfeybQ",
        "outputId": "85ef6506-c7c4-4d08-a88f-fdb82b5cc26d"
      },
      "source": [
        "x2 = range(0,2)\n",
        "y2 = [m*i+c for i in x2]\n",
        "\n",
        "plt.plot(x2,y2)\n",
        "plt.scatter(x,y)\n",
        "plt.title(\"line which is generated after training\")\n"
      ],
      "execution_count": 5,
      "outputs": [
        {
          "output_type": "execute_result",
          "data": {
            "text/plain": [
              "Text(0.5, 1.0, 'line which is generated after training')"
            ]
          },
          "metadata": {
            "tags": []
          },
          "execution_count": 5
        },
        {
          "output_type": "display_data",
          "data": {
            "image/png": "[encoded data removed]",
            "text/plain": [
              "<Figure size 432x288 with 1 Axes>"
            ]
          },
          "metadata": {
            "tags": [],
            "needs_background": "light"
          }
        }
      ]
    },
    {
      "cell_type": "code",
      "metadata": {
        "id": "z51CinB8e0he"
      },
      "source": [
        ""
      ],
      "execution_count": null,
      "outputs": []
    }
  ]
}