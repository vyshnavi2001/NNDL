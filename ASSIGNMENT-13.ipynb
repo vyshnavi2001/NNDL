{
  "nbformat": 4,
  "nbformat_minor": 0,
  "metadata": {
    "colab": {
      "name": "Untitled79.ipynb",
      "provenance": [],
      "authorship_tag": "ABX9TyMG7rqzZkqSsNkJqC7yPmHg",
      "include_colab_link": true
    },
    "kernelspec": {
      "name": "python3",
      "display_name": "Python 3"
    },
    "language_info": {
      "name": "python"
    }
  },
  "cells": [
    {
      "cell_type": "markdown",
      "metadata": {
        "id": "view-in-github",
        "colab_type": "text"
      },
      "source": [
        "<a href=\"https://colab.research.google.com/github/vyshnavi2001/NNDL/blob/main/ASSIGNMENT-13.ipynb\" target=\"_parent\"><img src=\"https://colab.research.google.com/assets/colab-badge.svg\" alt=\"Open In Colab\"/></a>"
      ]
    },
    {
      "cell_type": "code",
      "metadata": {
        "id": "5Oha2UYnYirC"
      },
      "source": [
        "import pandas as pd\n",
        "import numpy as np\n",
        "import matplotlib.pyplot as plt\n",
        "import math\n"
      ],
      "execution_count": 1,
      "outputs": []
    },
    {
      "cell_type": "code",
      "metadata": {
        "id": "OJpm8qdyY2At"
      },
      "source": [
        "data = [[0.2,3.4],[0.4,3.8],[0.6,4.2],[0.8,4.6]] \n"
      ],
      "execution_count": 2,
      "outputs": []
    },
    {
      "cell_type": "code",
      "metadata": {
        "id": "kVs_cXhZY9-G"
      },
      "source": [
        "data_x = []\n",
        "data_y = []\n",
        "for i in range(len(data)):\n",
        "  data_x.append(data[i][0])\n",
        "  data_y.append(data[i][1])\n",
        "\n",
        "\n",
        "data_x = np.array(data_x)\n",
        "data_y = np.array(data_y)"
      ],
      "execution_count": 3,
      "outputs": []
    },
    {
      "cell_type": "code",
      "metadata": {
        "id": "E7KzjI9eY_dE"
      },
      "source": [
        "# initalising required variables\n",
        "max_iters=10000\n",
        "m=1.0\n",
        "c=-1.0\n",
        "Gm=0.0\n",
        "Gc=0.0\n",
        "alpha=0.1\n",
        "exp=10**(-8)\n",
        "dm=0.0\n",
        "dc=0.0\n",
        "iter=1\n",
        "error=[]\n"
      ],
      "execution_count": 4,
      "outputs": []
    },
    {
      "cell_type": "code",
      "metadata": {
        "id": "XUJvIMqIZFlm"
      },
      "source": [
        "while (iter<=max_iters):\n",
        "  err=0.0\n",
        "  for i in range(4):\n",
        "    gm=-1*(data_y[i]-(m*data_x[i])-c)*data_x[i]\n",
        "    gc=-1*(data_y[i]-(m*data_x[i])-c)\n",
        "    err+=(data_y[i]-m*data_x[i]-c)**2\n",
        "    Gm = Gm + (gm**2)\n",
        "    Gc = Gc + (gc**2) \n",
        "    r1 = math.sqrt(Gm + exp)\n",
        "    r2 = math.sqrt(Gc + exp)\n",
        "    dm = -1*(alpha/r1)*gm\n",
        "    dc = -1*(alpha/r2)*gc\n",
        "    m = m + dm\n",
        "    c = c + dc\n",
        "  error.append(err/8)\n",
        "  iter=iter+1"
      ],
      "execution_count": 5,
      "outputs": []
    },
    {
      "cell_type": "code",
      "metadata": {
        "colab": {
          "base_uri": "https://localhost:8080/"
        },
        "id": "znnTpUdTZLfh",
        "outputId": "21c52ba6-982f-40af-c43a-3b73fbee7aa2"
      },
      "source": [
        "print(m,c)"
      ],
      "execution_count": 6,
      "outputs": [
        {
          "output_type": "stream",
          "text": [
            "2.005007496408316 2.997318666748586\n"
          ],
          "name": "stdout"
        }
      ]
    },
    {
      "cell_type": "code",
      "metadata": {
        "colab": {
          "base_uri": "https://localhost:8080/"
        },
        "id": "qXPFXivgZO81",
        "outputId": "1f7ec831-0b6f-479d-f17c-aa553fdd57f7"
      },
      "source": [
        "dd = 0\n",
        "for i in range(4):\n",
        "  dd+=(data_y[i]-(m*data_x[i])-c)**2\n",
        "dd = dd/4\n",
        "print(dd)"
      ],
      "execution_count": 7,
      "outputs": [
        {
          "output_type": "stream",
          "text": [
            "1.2852874629737716e-06\n"
          ],
          "name": "stdout"
        }
      ]
    },
    {
      "cell_type": "code",
      "metadata": {
        "colab": {
          "base_uri": "https://localhost:8080/",
          "height": 281
        },
        "id": "gRFSWVtTZTry",
        "outputId": "a978a2de-f971-4f5d-a3bf-2f8a38e53b37"
      },
      "source": [
        "plt.scatter(data_x,data_y,label=\"data points\")\n",
        "plt.plot(data_x,m*data_x+c,color='red',label=\"regression line\")\n",
        "plt.title(\"Visualising ADAGRAM\")\n",
        "plt.grid()\n",
        "plt.legend()\n",
        "plt.show()"
      ],
      "execution_count": 8,
      "outputs": [
        {
          "output_type": "display_data",
          "data": {
            "image/png": "[encoded data removed]",
            "text/plain": [
              "<Figure size 432x288 with 1 Axes>"
            ]
          },
          "metadata": {
            "tags": [],
            "needs_background": "light"
          }
        }
      ]
    },
    {
      "cell_type": "code",
      "metadata": {
        "colab": {
          "base_uri": "https://localhost:8080/",
          "height": 265
        },
        "id": "PM-VSn4VZbGV",
        "outputId": "b1749de4-fae2-459b-a89f-b5625c921779"
      },
      "source": [
        "iters=np.arange(max_iters)\n",
        "plt.plot(iters,error)\n",
        "plt.show()\n"
      ],
      "execution_count": 9,
      "outputs": [
        {
          "output_type": "display_data",
          "data": {
            "image/png": "[encoded data removed]",
            "text/plain": [
              "<Figure size 432x288 with 1 Axes>"
            ]
          },
          "metadata": {
            "tags": [],
            "needs_background": "light"
          }
        }
      ]
    }
  ]
}