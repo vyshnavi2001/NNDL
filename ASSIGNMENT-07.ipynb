{
  "nbformat": 4,
  "nbformat_minor": 0,
  "metadata": {
    "colab": {
      "name": "Untitled60.ipynb",
      "provenance": [],
      "authorship_tag": "ABX9TyMKjwvHdQ/mlDt8w3uuwySx",
      "include_colab_link": true
    },
    "kernelspec": {
      "name": "python3",
      "display_name": "Python 3"
    },
    "language_info": {
      "name": "python"
    }
  },
  "cells": [
    {
      "cell_type": "markdown",
      "metadata": {
        "id": "view-in-github",
        "colab_type": "text"
      },
      "source": [
        "<a href=\"https://colab.research.google.com/github/vyshnavi2001/NNDL/blob/main/assignment7.ipynb\" target=\"_parent\"><img src=\"https://colab.research.google.com/assets/colab-badge.svg\" alt=\"Open In Colab\"/></a>"
      ]
    },
    {
      "cell_type": "code",
      "metadata": {
        "colab": {
          "base_uri": "https://localhost:8080/"
        },
        "id": "kH1ErbC0P_Lj",
        "outputId": "b1da1073-480f-468c-cd02-30f7cca2c514"
      },
      "source": [
        "import numpy as np\n",
        "import pandas as pd\n",
        "import matplotlib.pyplot as plt\n",
        "import random\n",
        "\n",
        "data=np.array([[0.2,3.4],[0.4,3.8],[0.6,4.2],[0.8,4.6]])\n",
        "data"
      ],
      "execution_count": 1,
      "outputs": [
        {
          "output_type": "execute_result",
          "data": {
            "text/plain": [
              "array([[0.2, 3.4],\n",
              "       [0.4, 3.8],\n",
              "       [0.6, 4.2],\n",
              "       [0.8, 4.6]])"
            ]
          },
          "metadata": {
            "tags": []
          },
          "execution_count": 1
        }
      ]
    },
    {
      "cell_type": "code",
      "metadata": {
        "id": "2zd4HGSMQIVN"
      },
      "source": [
        "x=[]\n",
        "y=[]\n",
        "for i in range(0,len(data)):\n",
        "  x.append(data[i][0])\n",
        "for i in range(0,len(data)):\n",
        "  y.append(data[i][1])\n",
        "x=np.array(x)\n",
        "y=np.array(y)"
      ],
      "execution_count": 2,
      "outputs": []
    },
    {
      "cell_type": "code",
      "metadata": {
        "id": "DtlwMLP8QSSG"
      },
      "source": [
        "m=1\n",
        "c=-1\n",
        "epochs=100\n",
        "n=0.1\n",
        "ns=len(data)\n",
        "iter=1\n"
      ],
      "execution_count": 3,
      "outputs": []
    },
    {
      "cell_type": "code",
      "metadata": {
        "id": "bFpyitd4QcLe"
      },
      "source": [
        "while (iter<=epochs):\n",
        "  der_m = 0\n",
        "  der_c = 0\n",
        "  for i in range(0,ns):\n",
        "    der_m = der_m + (y[i] - (m*x[i]) - c)*x[i]\n",
        "    der_c = der_c + (y[i] - (m*x[i]) - c)\n",
        "\n",
        "    der_m = (-1/ns)*der_m\n",
        "    der_c = (-1/ns)*der_c\n",
        "\n",
        "    m_change = (-1)*n*der_m\n",
        "    c_change = (-1)*n*der_c\n",
        "\n",
        "    m = m + m_change\n",
        "    c = c + c_change\n",
        "\n",
        "  iter = iter + 1"
      ],
      "execution_count": 4,
      "outputs": []
    },
    {
      "cell_type": "code",
      "metadata": {
        "colab": {
          "base_uri": "https://localhost:8080/"
        },
        "id": "HUQq8rwgQsJy",
        "outputId": "54c82d3e-4fdc-4444-b7c7-ca5bad8db28e"
      },
      "source": [
        "print(m,c)"
      ],
      "execution_count": 5,
      "outputs": [
        {
          "output_type": "stream",
          "text": [
            "2.615854251732746 2.6633217392987163\n"
          ],
          "name": "stdout"
        }
      ]
    },
    {
      "cell_type": "code",
      "metadata": {
        "colab": {
          "base_uri": "https://localhost:8080/"
        },
        "id": "T8NmK7sxQ0ep",
        "outputId": "169bf169-ee2c-4ce2-ac55-66479b5945e0"
      },
      "source": [
        "# Mean Square Error (MSE)\n",
        "mse = 0\n",
        "for i in range(0,ns):\n",
        "  mse = mse + ((y[i] - (m*x[i]) - c)**2)\n",
        "mse = mse/ns\n",
        "mse"
      ],
      "execution_count": 6,
      "outputs": [
        {
          "output_type": "execute_result",
          "data": {
            "text/plain": [
              "0.019790450723160265"
            ]
          },
          "metadata": {
            "tags": []
          },
          "execution_count": 6
        }
      ]
    },
    {
      "cell_type": "code",
      "metadata": {
        "colab": {
          "base_uri": "https://localhost:8080/"
        },
        "id": "dM66N3S7Q7lI",
        "outputId": "8034f7a3-1e0a-4c82-fadd-cb9e00d73869"
      },
      "source": [
        "predict = []\n",
        "for i in range(0,ns):\n",
        "  predict.append(m*x[i]+c)\n",
        "predict"
      ],
      "execution_count": 7,
      "outputs": [
        {
          "output_type": "execute_result",
          "data": {
            "text/plain": [
              "[3.1864925896452654, 3.7096634399918145, 4.232834290338364, 4.756005140684913]"
            ]
          },
          "metadata": {
            "tags": []
          },
          "execution_count": 7
        }
      ]
    },
    {
      "cell_type": "code",
      "metadata": {
        "colab": {
          "base_uri": "https://localhost:8080/",
          "height": 279
        },
        "id": "ACE5zNhhRBvj",
        "outputId": "c44269c5-1e0d-4864-e6f9-17af0d512713"
      },
      "source": [
        "plt.plot(x,y,'--',color='b',label='Original Data')\n",
        "plt.scatter(x,predict,color='r',label='Predicted Data')\n",
        "plt.xlabel('X-DATA')\n",
        "plt.ylabel('Y-DATA')\n",
        "plt.legend()\n",
        "plt.show()"
      ],
      "execution_count": 8,
      "outputs": [
        {
          "output_type": "display_data",
          "data": {
            "image/png": "[encoded data removed]",
            "text/plain": [
              "<Figure size 432x288 with 1 Axes>"
            ]
          },
          "metadata": {
            "tags": [],
            "needs_background": "light"
          }
        }
      ]
    },
    {
      "cell_type": "code",
      "metadata": {
        "id": "2aoOXDvDRCOT"
      },
      "source": [
        ""
      ],
      "execution_count": null,
      "outputs": []
    }
  ]
}
