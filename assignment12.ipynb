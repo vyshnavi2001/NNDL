{
  "nbformat": 4,
  "nbformat_minor": 0,
  "metadata": {
    "colab": {
      "name": "Untitled68.ipynb",
      "provenance": [],
      "mount_file_id": "1xo-QtHOxPBT4dAeVtlxm76sTdZ4SY_8e",
      "authorship_tag": "ABX9TyPV8xqcz0FoTkz88KEyOx2R",
      "include_colab_link": true
    },
    "kernelspec": {
      "name": "python3",
      "display_name": "Python 3"
    },
    "language_info": {
      "name": "python"
    }
  },
  "cells": [
    {
      "cell_type": "markdown",
      "metadata": {
        "id": "view-in-github",
        "colab_type": "text"
      },
      "source": [
        "<a href=\"https://colab.research.google.com/github/vyshnavi2001/NNDL/blob/main/assignment12.ipynb\" target=\"_parent\"><img src=\"https://colab.research.google.com/assets/colab-badge.svg\" alt=\"Open In Colab\"/></a>"
      ]
    },
    {
      "cell_type": "code",
      "metadata": {
        "id": "K-zefAZbRDBx"
      },
      "source": [
        "import pandas as pd\n",
        "import numpy as np\n",
        "import math\n",
        "import random\n",
        "import matplotlib.pyplot as plt\n",
        "from random import shuffle\n",
        "from sklearn.preprocessing import minmax_scale\n",
        "from sklearn.model_selection import train_test_split"
      ],
      "execution_count": 8,
      "outputs": []
    },
    {
      "cell_type": "code",
      "metadata": {
        "colab": {
          "base_uri": "https://localhost:8080/",
          "height": 204
        },
        "id": "ohxIsCKxRHb6",
        "outputId": "331e9c89-e3a5-4a7a-cca3-f7d0ac4a26eb"
      },
      "source": [
        "load_data = pd.read_excel(\"Load_Data_in_kW.xlsx\")\n",
        "load_data.head()"
      ],
      "execution_count": 9,
      "outputs": [
        {
          "output_type": "execute_result",
          "data": {
            "text/html": [
              "<div>\n",
              "<style scoped>\n",
              "    .dataframe tbody tr th:only-of-type {\n",
              "        vertical-align: middle;\n",
              "    }\n",
              "\n",
              "    .dataframe tbody tr th {\n",
              "        vertical-align: top;\n",
              "    }\n",
              "\n",
              "    .dataframe thead th {\n",
              "        text-align: right;\n",
              "    }\n",
              "</style>\n",
              "<table border=\"1\" class=\"dataframe\">\n",
              "  <thead>\n",
              "    <tr style=\"text-align: right;\">\n",
              "      <th></th>\n",
              "      <th>5551.82208</th>\n",
              "    </tr>\n",
              "  </thead>\n",
              "  <tbody>\n",
              "    <tr>\n",
              "      <th>0</th>\n",
              "      <td>4983.17184</td>\n",
              "    </tr>\n",
              "    <tr>\n",
              "      <th>1</th>\n",
              "      <td>4888.39680</td>\n",
              "    </tr>\n",
              "    <tr>\n",
              "      <th>2</th>\n",
              "      <td>5072.95872</td>\n",
              "    </tr>\n",
              "    <tr>\n",
              "      <th>3</th>\n",
              "      <td>5196.25980</td>\n",
              "    </tr>\n",
              "    <tr>\n",
              "      <th>4</th>\n",
              "      <td>5641.29720</td>\n",
              "    </tr>\n",
              "  </tbody>\n",
              "</table>\n",
              "</div>"
            ],
            "text/plain": [
              "   5551.82208\n",
              "0  4983.17184\n",
              "1  4888.39680\n",
              "2  5072.95872\n",
              "3  5196.25980\n",
              "4  5641.29720"
            ]
          },
          "metadata": {
            "tags": []
          },
          "execution_count": 9
        }
      ]
    },
    {
      "cell_type": "code",
      "metadata": {
        "colab": {
          "base_uri": "https://localhost:8080/",
          "height": 297
        },
        "id": "V7WFIVJrRfcL",
        "outputId": "f35e5409-1aa9-4407-c808-d1ec3178f4a7"
      },
      "source": [
        "load_data.describe()"
      ],
      "execution_count": 10,
      "outputs": [
        {
          "output_type": "execute_result",
          "data": {
            "text/html": [
              "<div>\n",
              "<style scoped>\n",
              "    .dataframe tbody tr th:only-of-type {\n",
              "        vertical-align: middle;\n",
              "    }\n",
              "\n",
              "    .dataframe tbody tr th {\n",
              "        vertical-align: top;\n",
              "    }\n",
              "\n",
              "    .dataframe thead th {\n",
              "        text-align: right;\n",
              "    }\n",
              "</style>\n",
              "<table border=\"1\" class=\"dataframe\">\n",
              "  <thead>\n",
              "    <tr style=\"text-align: right;\">\n",
              "      <th></th>\n",
              "      <th>5551.82208</th>\n",
              "    </tr>\n",
              "  </thead>\n",
              "  <tbody>\n",
              "    <tr>\n",
              "      <th>count</th>\n",
              "      <td>2183.000000</td>\n",
              "    </tr>\n",
              "    <tr>\n",
              "      <th>mean</th>\n",
              "      <td>6393.616060</td>\n",
              "    </tr>\n",
              "    <tr>\n",
              "      <th>std</th>\n",
              "      <td>17143.020064</td>\n",
              "    </tr>\n",
              "    <tr>\n",
              "      <th>min</th>\n",
              "      <td>3377.919600</td>\n",
              "    </tr>\n",
              "    <tr>\n",
              "      <th>25%</th>\n",
              "      <td>5257.520640</td>\n",
              "    </tr>\n",
              "    <tr>\n",
              "      <th>50%</th>\n",
              "      <td>5935.910400</td>\n",
              "    </tr>\n",
              "    <tr>\n",
              "      <th>75%</th>\n",
              "      <td>6738.692400</td>\n",
              "    </tr>\n",
              "    <tr>\n",
              "      <th>max</th>\n",
              "      <td>805444.430400</td>\n",
              "    </tr>\n",
              "  </tbody>\n",
              "</table>\n",
              "</div>"
            ],
            "text/plain": [
              "          5551.82208\n",
              "count    2183.000000\n",
              "mean     6393.616060\n",
              "std     17143.020064\n",
              "min      3377.919600\n",
              "25%      5257.520640\n",
              "50%      5935.910400\n",
              "75%      6738.692400\n",
              "max    805444.430400"
            ]
          },
          "metadata": {
            "tags": []
          },
          "execution_count": 10
        }
      ]
    },
    {
      "cell_type": "code",
      "metadata": {
        "colab": {
          "base_uri": "https://localhost:8080/"
        },
        "id": "NKsRnFlSRqOQ",
        "outputId": "b9bf3f3d-6776-4900-eb2b-e3c744d51f6e"
      },
      "source": [
        "load_data.info()"
      ],
      "execution_count": 11,
      "outputs": [
        {
          "output_type": "stream",
          "text": [
            "<class 'pandas.core.frame.DataFrame'>\n",
            "RangeIndex: 2183 entries, 0 to 2182\n",
            "Data columns (total 1 columns):\n",
            " #   Column      Non-Null Count  Dtype  \n",
            "---  ------      --------------  -----  \n",
            " 0   5551.82208  2183 non-null   float64\n",
            "dtypes: float64(1)\n",
            "memory usage: 17.2 KB\n"
          ],
          "name": "stdout"
        }
      ]
    },
    {
      "cell_type": "code",
      "metadata": {
        "colab": {
          "base_uri": "https://localhost:8080/",
          "height": 401
        },
        "id": "P-OvNpJrRv1Z",
        "outputId": "9b950c13-8ebe-43e0-c042-acb7484cba6d"
      },
      "source": [
        "plt.boxplot(load_data.iloc[:,0])"
      ],
      "execution_count": 16,
      "outputs": [
        {
          "output_type": "execute_result",
          "data": {
            "text/plain": [
              "{'boxes': [<matplotlib.lines.Line2D at 0x7fee2c71b7d0>],\n",
              " 'caps': [<matplotlib.lines.Line2D at 0x7fee2c720810>,\n",
              "  <matplotlib.lines.Line2D at 0x7fee2c720d50>],\n",
              " 'fliers': [<matplotlib.lines.Line2D at 0x7fee2c725850>],\n",
              " 'means': [],\n",
              " 'medians': [<matplotlib.lines.Line2D at 0x7fee2c725310>],\n",
              " 'whiskers': [<matplotlib.lines.Line2D at 0x7fee2c71bd50>,\n",
              "  <matplotlib.lines.Line2D at 0x7fee2c7202d0>]}"
            ]
          },
          "metadata": {
            "tags": []
          },
          "execution_count": 16
        },
        {
          "output_type": "display_data",
          "data": {
            "image/png": "[encoded data removed]",
            "text/plain": [
              "<Figure size 432x288 with 1 Axes>"
            ]
          },
          "metadata": {
            "tags": [],
            "needs_background": "light"
          }
        }
      ]
    },
    {
      "cell_type": "code",
      "metadata": {
        "colab": {
          "base_uri": "https://localhost:8080/"
        },
        "id": "rlXoSGYtR27o",
        "outputId": "6b57bc7b-50e5-4752-93c0-b9209422179f"
      },
      "source": [
        "from scipy import stats\n",
        "\n",
        "z = np.abs(stats.zscore(load_data.iloc[:,0]))\n",
        "\n",
        "threshold = 3\n",
        "print(np.where(z > 3))"
      ],
      "execution_count": 17,
      "outputs": [
        {
          "output_type": "stream",
          "text": [
            "(array([], dtype=int64),)\n"
          ],
          "name": "stdout"
        }
      ]
    },
    {
      "cell_type": "code",
      "metadata": {
        "id": "k0faF6FgSHH9"
      },
      "source": [
        "load_data.iloc[928,0] = load_data.iloc[927,0]"
      ],
      "execution_count": 18,
      "outputs": []
    },
    {
      "cell_type": "code",
      "metadata": {
        "colab": {
          "base_uri": "https://localhost:8080/",
          "height": 401
        },
        "id": "jmriPGBNSNAT",
        "outputId": "f9efed6e-2609-4064-ccc4-d0e10bae228f"
      },
      "source": [
        "plt.boxplot(load_data.iloc[:,0])"
      ],
      "execution_count": 19,
      "outputs": [
        {
          "output_type": "execute_result",
          "data": {
            "text/plain": [
              "{'boxes': [<matplotlib.lines.Line2D at 0x7fee2c68e710>],\n",
              " 'caps': [<matplotlib.lines.Line2D at 0x7fee2c693750>,\n",
              "  <matplotlib.lines.Line2D at 0x7fee2c693c90>],\n",
              " 'fliers': [<matplotlib.lines.Line2D at 0x7fee2c69b790>],\n",
              " 'means': [],\n",
              " 'medians': [<matplotlib.lines.Line2D at 0x7fee2c69b250>],\n",
              " 'whiskers': [<matplotlib.lines.Line2D at 0x7fee2c68ec90>,\n",
              "  <matplotlib.lines.Line2D at 0x7fee2c693210>]}"
            ]
          },
          "metadata": {
            "tags": []
          },
          "execution_count": 19
        },
        {
          "output_type": "display_data",
          "data": {
            "image/png": "[encoded data removed]",
            "text/plain": [
              "<Figure size 432x288 with 1 Axes>"
            ]
          },
          "metadata": {
            "tags": [],
            "needs_background": "light"
          }
        }
      ]
    },
    {
      "cell_type": "code",
      "metadata": {
        "id": "i3QFHOmuSP1L"
      },
      "source": [
        "x = []\n",
        "y = []\n",
        "for i in range(len(load_data.iloc[:,0])-24):\n",
        "  x.append(load_data.iloc[i,0])\n",
        "  y.append(load_data.iloc[i+24,0])"
      ],
      "execution_count": 20,
      "outputs": []
    },
    {
      "cell_type": "code",
      "metadata": {
        "colab": {
          "base_uri": "https://localhost:8080/",
          "height": 282
        },
        "id": "hyVVbsSISZjb",
        "outputId": "65884153-3d20-4090-954f-af925acec8c3"
      },
      "source": [
        "plt.scatter(x,y)"
      ],
      "execution_count": 21,
      "outputs": [
        {
          "output_type": "execute_result",
          "data": {
            "text/plain": [
              "<matplotlib.collections.PathCollection at 0x7fee2c64a650>"
            ]
          },
          "metadata": {
            "tags": []
          },
          "execution_count": 21
        },
        {
          "output_type": "display_data",
          "data": {
            "image/png": "[encoded data removed]",
            "text/plain": [
              "<Figure size 432x288 with 1 Axes>"
            ]
          },
          "metadata": {
            "tags": [],
            "needs_background": "light"
          }
        }
      ]
    },
    {
      "cell_type": "code",
      "metadata": {
        "id": "qFbG1FkOSfY-"
      },
      "source": [
        "def error(d,m,c):\n",
        "  sum = 0\n",
        "  for i in range(len(d)):\n",
        "    sum = sum + math.pow(d[i][1]-m*d[i][0]-c,2)\n",
        "  return 0.5*sum/len(d)\n",
        "\n",
        "def gradm(d,m,c,v_m,v_c,momentum_coeff):\n",
        "  sum = 0\n",
        "  for i in range(len(d)):\n",
        "    sum = sum + (d[i][1]-(m+momentum_coeff*v_m)*d[i][0]-(c+momentum_coeff*v_c))*d[i][0]\n",
        "  return -1*sum/len(d)\n",
        "\n",
        "def gradc(d,m,c,v_m,v_c,momentum_coeff):\n",
        "  sum = 0\n",
        "  for i in range(len(d)):\n",
        "    sum = sum + (d[i][1]-(m+momentum_coeff*v_m)*d[i][0]-(c+momentum_coeff*v_c))\n",
        "  return -1*sum/len(d)"
      ],
      "execution_count": 22,
      "outputs": []
    },
    {
      "cell_type": "code",
      "metadata": {
        "id": "4k_bZoUxSp9P"
      },
      "source": [
        "learning_rate = 0.01\n",
        "epochs = 20\n",
        "\n",
        "m = 1\n",
        "c = 1\n",
        "\n",
        "v_m = 0\n",
        "v_c = 0\n",
        "momentum_coeff = 0.9\n",
        "\n",
        "batch_size = 500\n"
      ],
      "execution_count": 23,
      "outputs": []
    },
    {
      "cell_type": "code",
      "metadata": {
        "id": "68I8x3DkSvHi"
      },
      "source": [
        "x = minmax_scale(x)\n",
        "y = minmax_scale(y)"
      ],
      "execution_count": 24,
      "outputs": []
    },
    {
      "cell_type": "code",
      "metadata": {
        "colab": {
          "base_uri": "https://localhost:8080/"
        },
        "id": "fNTBgziRS3fa",
        "outputId": "e0e56083-ef8c-463c-f4e6-c8ed315c5772"
      },
      "source": [
        "data = []\n",
        "\n",
        "for i in range(len(x)):\n",
        "  data.append((x[i],y[i]))\n",
        "\n",
        "print(len(data))\n",
        "\n",
        "data_train,data_test = train_test_split(data,test_size=0.1)\n",
        "\n",
        "len(data_train)"
      ],
      "execution_count": 25,
      "outputs": [
        {
          "output_type": "stream",
          "text": [
            "2159\n"
          ],
          "name": "stdout"
        },
        {
          "output_type": "execute_result",
          "data": {
            "text/plain": [
              "1943"
            ]
          },
          "metadata": {
            "tags": []
          },
          "execution_count": 25
        }
      ]
    },
    {
      "cell_type": "code",
      "metadata": {
        "colab": {
          "base_uri": "https://localhost:8080/"
        },
        "id": "DkEyUS4NTEX_",
        "outputId": "2e108634-9fa1-4bef-d90b-bf6cbdd5d65a"
      },
      "source": [
        "error_list = []\n",
        "number_of_batches = (len(data_train)//batch_size)\n",
        "for i in range(epochs):\n",
        "  for j in range(number_of_batches+1):\n",
        "    if j == number_of_batches:\n",
        "      d = data_train[j*batch_size:]\n",
        "    else:\n",
        "      d = data_train[j*batch_size:(j+1)*batch_size]\n",
        "\n",
        "    deltam = -1*learning_rate*gradm(d,m,c,v_m,v_c,momentum_coeff)\n",
        "    deltac = -1*learning_rate*gradc(d,m,c,v_m,v_c,momentum_coeff)\n",
        "\n",
        "    v_m = v_m*momentum_coeff + deltam\n",
        "    v_c = v_c*momentum_coeff + deltac\n",
        "\n",
        "    m = m + v_m\n",
        "    c = c + v_c\n",
        "\n",
        "    print(\"epoch {}, batch {}, error {}\".format(i,j,error(d,m,c)))\n",
        "    error_list.append(error(d,m,c))\n",
        "  random.shuffle(data_train)\n"
      ],
      "execution_count": 28,
      "outputs": [
        {
          "output_type": "stream",
          "text": [
            "epoch 0, batch 0, error 0.5005313271866848\n",
            "epoch 0, batch 1, error 0.47894448349864993\n",
            "epoch 0, batch 2, error 0.4340315540390328\n",
            "epoch 0, batch 3, error 0.41193625033961134\n",
            "epoch 1, batch 0, error 0.3639099457995251\n",
            "epoch 1, batch 1, error 0.3179392994240733\n",
            "epoch 1, batch 2, error 0.28345974372325544\n",
            "epoch 1, batch 3, error 0.24082879747510444\n",
            "epoch 2, batch 0, error 0.20183100789358432\n",
            "epoch 2, batch 1, error 0.1661593944230788\n",
            "epoch 2, batch 2, error 0.12267887982436845\n",
            "epoch 2, batch 3, error 0.10166949209150744\n",
            "epoch 3, batch 0, error 0.07668098430206602\n",
            "epoch 3, batch 1, error 0.05623194947254633\n",
            "epoch 3, batch 2, error 0.0425128488300111\n",
            "epoch 3, batch 3, error 0.03162660014298497\n",
            "epoch 4, batch 0, error 0.02132880775185199\n",
            "epoch 4, batch 1, error 0.015227456174997133\n",
            "epoch 4, batch 2, error 0.011807920996032504\n",
            "epoch 4, batch 3, error 0.009170278562060331\n",
            "epoch 5, batch 0, error 0.010538339607135218\n",
            "epoch 5, batch 1, error 0.008419796398344637\n",
            "epoch 5, batch 2, error 0.0108760002041856\n",
            "epoch 5, batch 3, error 0.012642137214619837\n",
            "epoch 6, batch 0, error 0.01625622606681594\n",
            "epoch 6, batch 1, error 0.015121210470694148\n",
            "epoch 6, batch 2, error 0.01768638076793863\n",
            "epoch 6, batch 3, error 0.017693977911430157\n",
            "epoch 7, batch 0, error 0.018648965372422673\n",
            "epoch 7, batch 1, error 0.021352452590503817\n",
            "epoch 7, batch 2, error 0.020167447383202336\n",
            "epoch 7, batch 3, error 0.022123699848389\n",
            "epoch 8, batch 0, error 0.020278486034588962\n",
            "epoch 8, batch 1, error 0.021375738480227603\n",
            "epoch 8, batch 2, error 0.018869204404611227\n",
            "epoch 8, batch 3, error 0.017068068743763064\n",
            "epoch 9, batch 0, error 0.017326873032023925\n",
            "epoch 9, batch 1, error 0.014903369056734336\n",
            "epoch 9, batch 2, error 0.015139729284791252\n",
            "epoch 9, batch 3, error 0.01576132963621915\n",
            "epoch 10, batch 0, error 0.012572472167941428\n",
            "epoch 10, batch 1, error 0.013552872966947736\n",
            "epoch 10, batch 2, error 0.010884497950370072\n",
            "epoch 10, batch 3, error 0.011848554372201763\n",
            "epoch 11, batch 0, error 0.00990910990132835\n",
            "epoch 11, batch 1, error 0.010022870905279082\n",
            "epoch 11, batch 2, error 0.010329832638765246\n",
            "epoch 11, batch 3, error 0.00961322346581582\n",
            "epoch 12, batch 0, error 0.009740564803245528\n",
            "epoch 12, batch 1, error 0.010325694791894097\n",
            "epoch 12, batch 2, error 0.007871047321697555\n",
            "epoch 12, batch 3, error 0.008647461248374665\n",
            "epoch 13, batch 0, error 0.008145488574324651\n",
            "epoch 13, batch 1, error 0.010368919909586528\n",
            "epoch 13, batch 2, error 0.008664371365612973\n",
            "epoch 13, batch 3, error 0.00906295578596945\n",
            "epoch 14, batch 0, error 0.008712489222884458\n",
            "epoch 14, batch 1, error 0.010270414839626011\n",
            "epoch 14, batch 2, error 0.008749054080691999\n",
            "epoch 14, batch 3, error 0.009052396403658345\n",
            "epoch 15, batch 0, error 0.00992376762979083\n",
            "epoch 15, batch 1, error 0.00880862307857674\n",
            "epoch 15, batch 2, error 0.009931452535380659\n",
            "epoch 15, batch 3, error 0.008366460686702725\n",
            "epoch 16, batch 0, error 0.009426161695713082\n",
            "epoch 16, batch 1, error 0.008962858821305951\n",
            "epoch 16, batch 2, error 0.009060769939201544\n",
            "epoch 16, batch 3, error 0.009597892962192087\n",
            "epoch 17, batch 0, error 0.008948026039972173\n",
            "epoch 17, batch 1, error 0.008450823676696511\n",
            "epoch 17, batch 2, error 0.009253525094501983\n",
            "epoch 17, batch 3, error 0.010097412830956531\n",
            "epoch 18, batch 0, error 0.00861735814811734\n",
            "epoch 18, batch 1, error 0.009264139163909009\n",
            "epoch 18, batch 2, error 0.007513807601294439\n",
            "epoch 18, batch 3, error 0.011089426030391909\n",
            "epoch 19, batch 0, error 0.0085054954166178\n",
            "epoch 19, batch 1, error 0.009150354752391232\n",
            "epoch 19, batch 2, error 0.010049548614587643\n",
            "epoch 19, batch 3, error 0.008273336501722347\n"
          ],
          "name": "stdout"
        }
      ]
    },
    {
      "cell_type": "code",
      "metadata": {
        "id": "xhhLI8n0TQap"
      },
      "source": [
        ""
      ],
      "execution_count": null,
      "outputs": []
    },
    {
      "cell_type": "code",
      "metadata": {
        "colab": {
          "base_uri": "https://localhost:8080/",
          "height": 298
        },
        "id": "hbzUKGMiTGja",
        "outputId": "43e1a5cc-b9c6-4bc1-d052-1222f05b77ec"
      },
      "source": [
        "x1 = range(len(error_list))\n",
        "y1 = error_list\n",
        "\n",
        "plt.plot(x1,y1)\n",
        "plt.title(\"error graph\")"
      ],
      "execution_count": 29,
      "outputs": [
        {
          "output_type": "execute_result",
          "data": {
            "text/plain": [
              "Text(0.5, 1.0, 'error graph')"
            ]
          },
          "metadata": {
            "tags": []
          },
          "execution_count": 29
        },
        {
          "output_type": "display_data",
          "data": {
            "image/png": "[encoded data removed]",
            "text/plain": [
              "<Figure size 432x288 with 1 Axes>"
            ]
          },
          "metadata": {
            "tags": [],
            "needs_background": "light"
          }
        }
      ]
    },
    {
      "cell_type": "code",
      "metadata": {
        "colab": {
          "base_uri": "https://localhost:8080/"
        },
        "id": "P0IrqMduTVDw",
        "outputId": "9d03685f-7959-4a36-8027-1235c38c014e"
      },
      "source": [
        "print(\"train error :\",error(data_train,m,c))\n",
        "print(\"test error :\",error(data_test,m,c))"
      ],
      "execution_count": 30,
      "outputs": [
        {
          "output_type": "stream",
          "text": [
            "train error : 0.008999403558284208\n",
            "test error : 0.00769203837882599\n"
          ],
          "name": "stdout"
        }
      ]
    },
    {
      "cell_type": "code",
      "metadata": {
        "colab": {
          "base_uri": "https://localhost:8080/"
        },
        "id": "L7pMxct2trtK",
        "outputId": "c7c80d12-3296-446e-f909-9bd5af4e3946"
      },
      "source": [
        "print(m,c)"
      ],
      "execution_count": 31,
      "outputs": [
        {
          "output_type": "stream",
          "text": [
            "0.6264998140188826 0.18734980907950669\n"
          ],
          "name": "stdout"
        }
      ]
    },
    {
      "cell_type": "code",
      "metadata": {
        "colab": {
          "base_uri": "https://localhost:8080/",
          "height": 282
        },
        "id": "zNeP55Y6txjR",
        "outputId": "1582d5e9-4ade-4d56-ca05-f9b9507d7ef8"
      },
      "source": [
        "plt.scatter(x,y)"
      ],
      "execution_count": 32,
      "outputs": [
        {
          "output_type": "execute_result",
          "data": {
            "text/plain": [
              "<matplotlib.collections.PathCollection at 0x7fee2cd1e550>"
            ]
          },
          "metadata": {
            "tags": []
          },
          "execution_count": 32
        },
        {
          "output_type": "display_data",
          "data": {
            "image/png": "[encoded data removed]",
            "text/plain": [
              "<Figure size 432x288 with 1 Axes>"
            ]
          },
          "metadata": {
            "tags": [],
            "needs_background": "light"
          }
        }
      ]
    },
    {
      "cell_type": "code",
      "metadata": {
        "colab": {
          "base_uri": "https://localhost:8080/",
          "height": 298
        },
        "id": "3AaRncv7t2z2",
        "outputId": "7d265cc6-e392-43be-9a1d-6aca0ea97cc2"
      },
      "source": [
        "x1 = x\n",
        "y1 = [i*m+c for i in x1]\n",
        "plt.plot(x1,y1)\n",
        "plt.title(\"predicted line\")"
      ],
      "execution_count": 33,
      "outputs": [
        {
          "output_type": "execute_result",
          "data": {
            "text/plain": [
              "Text(0.5, 1.0, 'predicted line')"
            ]
          },
          "metadata": {
            "tags": []
          },
          "execution_count": 33
        },
        {
          "output_type": "display_data",
          "data": {
            "image/png": "[encoded data removed]",
            "text/plain": [
              "<Figure size 432x288 with 1 Axes>"
            ]
          },
          "metadata": {
            "tags": [],
            "needs_background": "light"
          }
        }
      ]
    },
    {
      "cell_type": "code",
      "metadata": {
        "colab": {
          "base_uri": "https://localhost:8080/",
          "height": 282
        },
        "id": "ZOP-aaxBuKzF",
        "outputId": "c0f32b98-c442-4564-d34b-c3bc84747499"
      },
      "source": [
        "plt.scatter(x,y)\n",
        "x1 = x\n",
        "y1 = [i*m+c for i in x1]\n",
        "plt.plot(x1,y1)"
      ],
      "execution_count": 34,
      "outputs": [
        {
          "output_type": "execute_result",
          "data": {
            "text/plain": [
              "[<matplotlib.lines.Line2D at 0x7fee2c494710>]"
            ]
          },
          "metadata": {
            "tags": []
          },
          "execution_count": 34
        },
        {
          "output_type": "display_data",
          "data": {
            "image/png": "[encoded data removed]",
            "text/plain": [
              "<Figure size 432x288 with 1 Axes>"
            ]
          },
          "metadata": {
            "tags": [],
            "needs_background": "light"
          }
        }
      ]
    },
    {
      "cell_type": "code",
      "metadata": {
        "colab": {
          "base_uri": "https://localhost:8080/"
        },
        "id": "gSN5igbRuNFp",
        "outputId": "79209cfb-0756-44cf-da33-9e87c52dcc97"
      },
      "source": [
        "input_load = float(input(\"enter yesterday load at this time : \"))\n",
        "\n",
        "max_value = 8841.669480\n",
        "min_value = 3377.919600\n",
        "\n",
        "input_load = (input_load - min_value)/(max_value-min_value)\n",
        "output_load = input_load*m+c\n",
        "\n",
        "output_load = output_load*(max_value-min_value)+min_value\n",
        "\n",
        "print(\"predicted load for this hour is : \",output_load)"
      ],
      "execution_count": 35,
      "outputs": [
        {
          "output_type": "stream",
          "text": [
            "enter yesterday load at this time : 4123\n",
            "predicted load for this hour is :  4868.344828905292\n"
          ],
          "name": "stdout"
        }
      ]
    }
  ]
}